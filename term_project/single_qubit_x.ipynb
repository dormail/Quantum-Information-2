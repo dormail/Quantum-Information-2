{
 "cells": [
  {
   "cell_type": "code",
   "execution_count": 1,
   "id": "0853b5c7-a795-493a-bba1-6de47b6c5a00",
   "metadata": {
    "execution": {
     "iopub.execute_input": "2022-11-29T11:19:21.369235Z",
     "iopub.status.busy": "2022-11-29T11:19:21.368874Z",
     "iopub.status.idle": "2022-11-29T11:19:21.599302Z",
     "shell.execute_reply": "2022-11-29T11:19:21.598270Z",
     "shell.execute_reply.started": "2022-11-29T11:19:21.369127Z"
    }
   },
   "outputs": [],
   "source": [
    "import numpy as np"
   ]
  },
  {
   "cell_type": "code",
   "execution_count": 2,
   "id": "75b8ecb6-3ee8-4ac8-a721-84f1f3b1256a",
   "metadata": {
    "execution": {
     "iopub.execute_input": "2022-11-29T11:19:32.153416Z",
     "iopub.status.busy": "2022-11-29T11:19:32.153129Z",
     "iopub.status.idle": "2022-11-29T11:19:32.159042Z",
     "shell.execute_reply": "2022-11-29T11:19:32.157953Z",
     "shell.execute_reply.started": "2022-11-29T11:19:32.153382Z"
    }
   },
   "outputs": [],
   "source": [
    "theta = np.pi / 2\n",
    "phi = 0"
   ]
  },
  {
   "cell_type": "code",
   "execution_count": 8,
   "id": "7f691449-b86e-448d-be12-8175dea7d3f0",
   "metadata": {
    "execution": {
     "iopub.execute_input": "2022-11-29T11:23:13.321480Z",
     "iopub.status.busy": "2022-11-29T11:23:13.321189Z",
     "iopub.status.idle": "2022-11-29T11:23:13.327708Z",
     "shell.execute_reply": "2022-11-29T11:23:13.326353Z",
     "shell.execute_reply.started": "2022-11-29T11:23:13.321440Z"
    },
    "tags": []
   },
   "outputs": [],
   "source": [
    "state_a = np.array([1,0,0])\n",
    "state_zero = np.array([0,1,0])\n",
    "state_one = np.array([0,0,1])"
   ]
  },
  {
   "cell_type": "code",
   "execution_count": 9,
   "id": "fb310863-f966-4cad-ac63-e732e4208a9b",
   "metadata": {
    "execution": {
     "iopub.execute_input": "2022-11-29T11:23:13.849993Z",
     "iopub.status.busy": "2022-11-29T11:23:13.849628Z",
     "iopub.status.idle": "2022-11-29T11:23:13.856574Z",
     "shell.execute_reply": "2022-11-29T11:23:13.855376Z",
     "shell.execute_reply.started": "2022-11-29T11:23:13.849957Z"
    },
    "tags": []
   },
   "outputs": [],
   "source": [
    "state_bright = np.sin(theta/2) * state_zero - np.cos(theta/2) * np.exp(-1 * 1j * phi) * state_one"
   ]
  },
  {
   "cell_type": "code",
   "execution_count": 23,
   "id": "c00a135e-33f8-4dae-9def-907da7a30c3d",
   "metadata": {
    "execution": {
     "iopub.execute_input": "2022-11-29T11:27:10.372626Z",
     "iopub.status.busy": "2022-11-29T11:27:10.372316Z",
     "iopub.status.idle": "2022-11-29T11:27:10.381478Z",
     "shell.execute_reply": "2022-11-29T11:27:10.380240Z",
     "shell.execute_reply.started": "2022-11-29T11:27:10.372588Z"
    },
    "tags": []
   },
   "outputs": [
    {
     "data": {
      "text/plain": [
       "matrix([[ 0. -0.j,  0. -0.j, -0. -0.j],\n",
       "        [ 0. -0.j,  0.5-0.j, -0.5-0.j],\n",
       "        [-0. -0.j, -0.5-0.j,  0.5+0.j]])"
      ]
     },
     "execution_count": 23,
     "metadata": {},
     "output_type": "execute_result"
    }
   ],
   "source": [
    "np.matrix(np.outer(state_bright, state_bright)).H"
   ]
  },
  {
   "cell_type": "code",
   "execution_count": 27,
   "id": "e47c039b-8f89-45a4-9234-b51d94316aab",
   "metadata": {
    "execution": {
     "iopub.execute_input": "2022-11-29T11:27:35.556382Z",
     "iopub.status.busy": "2022-11-29T11:27:35.556080Z",
     "iopub.status.idle": "2022-11-29T11:27:35.562534Z",
     "shell.execute_reply": "2022-11-29T11:27:35.561141Z",
     "shell.execute_reply.started": "2022-11-29T11:27:35.556348Z"
    },
    "tags": []
   },
   "outputs": [],
   "source": [
    "def Omega(t):\n",
    "    return t\n",
    "\n",
    "def phi_1(t):\n",
    "    return t"
   ]
  },
  {
   "cell_type": "code",
   "execution_count": 28,
   "id": "9ef677ba-7fb7-47c2-a3a4-369e3daebc72",
   "metadata": {
    "execution": {
     "iopub.execute_input": "2022-11-29T11:27:35.903434Z",
     "iopub.status.busy": "2022-11-29T11:27:35.903106Z",
     "iopub.status.idle": "2022-11-29T11:27:35.909543Z",
     "shell.execute_reply": "2022-11-29T11:27:35.908589Z",
     "shell.execute_reply.started": "2022-11-29T11:27:35.903396Z"
    },
    "tags": []
   },
   "outputs": [],
   "source": [
    "def Hamiltonian(t):\n",
    "    H = np.matrix(Omega(t) / 2 * np.exp(-1 * 1j * phi_1(t)) * np.outer(state_bright, state_a))\n",
    "    \n",
    "    return H + H.H"
   ]
  },
  {
   "cell_type": "code",
   "execution_count": 30,
   "id": "8925f8a4-b72a-426e-a96a-b10913d9d6d4",
   "metadata": {
    "execution": {
     "iopub.execute_input": "2022-11-29T11:27:39.784088Z",
     "iopub.status.busy": "2022-11-29T11:27:39.783752Z",
     "iopub.status.idle": "2022-11-29T11:27:39.792204Z",
     "shell.execute_reply": "2022-11-29T11:27:39.791149Z",
     "shell.execute_reply.started": "2022-11-29T11:27:39.784047Z"
    },
    "tags": []
   },
   "outputs": [
    {
     "data": {
      "text/plain": [
       "matrix([[ 0.        +0.j        , -0.29426025+0.64297038j,\n",
       "          0.29426025-0.64297038j],\n",
       "        [-0.29426025-0.64297038j,  0.        +0.j        ,\n",
       "          0.        -0.j        ],\n",
       "        [ 0.29426025+0.64297038j,  0.        +0.j        ,\n",
       "          0.        +0.j        ]])"
      ]
     },
     "execution_count": 30,
     "metadata": {},
     "output_type": "execute_result"
    }
   ],
   "source": [
    "Hamiltonian(2)"
   ]
  },
  {
   "cell_type": "code",
   "execution_count": null,
   "id": "9e26b6d3-b5fc-45b8-8ba2-cdc7bed70114",
   "metadata": {},
   "outputs": [],
   "source": []
  }
 ],
 "metadata": {
  "kernelspec": {
   "display_name": "Python 3 (ipykernel)",
   "language": "python",
   "name": "python3"
  },
  "language_info": {
   "codemirror_mode": {
    "name": "ipython",
    "version": 3
   },
   "file_extension": ".py",
   "mimetype": "text/x-python",
   "name": "python",
   "nbconvert_exporter": "python",
   "pygments_lexer": "ipython3",
   "version": "3.8.13"
  }
 },
 "nbformat": 4,
 "nbformat_minor": 5
}
